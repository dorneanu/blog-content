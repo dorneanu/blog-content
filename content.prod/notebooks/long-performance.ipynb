{
 "metadata": {
  "name": ""
 },
 "nbformat": 3,
 "nbformat_minor": 0,
 "worksheets": [
  {
   "cells": [
    {
     "cell_type": "heading",
     "level": 3,
     "metadata": {},
     "source": [
      "Performance of Python's long data type "
     ]
    },
    {
     "cell_type": "markdown",
     "metadata": {},
     "source": [
      "Python 2.x has two integer datatypes: the ``int`` and the ``long``. (In Python 3.x, the distinction disappears.) The ``int`` data type corresponds to the 'normal' integer data type that the CPU supports. The range of that data type can be obtained from the ``maxint`` attribute in the ``sys``tem module:"
     ]
    },
    {
     "cell_type": "code",
     "collapsed": false,
     "input": [
      "import sys\n",
      "a = sys.maxint\n",
      "print(a)"
     ],
     "language": "python",
     "metadata": {},
     "outputs": [
      {
       "output_type": "stream",
       "stream": "stdout",
       "text": [
        "2147483647\n"
       ]
      }
     ],
     "prompt_number": 1
    },
    {
     "cell_type": "markdown",
     "metadata": {},
     "source": [
      "The object bound to the name ``a`` is the largest integer of type ``int`` in Python:"
     ]
    },
    {
     "cell_type": "code",
     "collapsed": false,
     "input": [
      "type(a)"
     ],
     "language": "python",
     "metadata": {},
     "outputs": [
      {
       "output_type": "pyout",
       "prompt_number": 2,
       "text": [
        "int"
       ]
      }
     ],
     "prompt_number": 2
    },
    {
     "cell_type": "markdown",
     "metadata": {},
     "source": [
      "Operations using integers below this limit ``sys.maxint`` are carried out using the hardware's computational capabilities. When the range is exceeded, Python (silently) changes the type from ``int`` to ``long``:"
     ]
    },
    {
     "cell_type": "code",
     "collapsed": false,
     "input": [
      "type(a + 1)"
     ],
     "language": "python",
     "metadata": {},
     "outputs": [
      {
       "output_type": "pyout",
       "prompt_number": 3,
       "text": [
        "long"
       ]
      }
     ],
     "prompt_number": 3
    },
    {
     "cell_type": "code",
     "collapsed": false,
     "input": [
      "a + 1"
     ],
     "language": "python",
     "metadata": {},
     "outputs": [
      {
       "output_type": "pyout",
       "prompt_number": 4,
       "text": [
        "2147483648L"
       ]
      }
     ],
     "prompt_number": 4
    },
    {
     "cell_type": "markdown",
     "metadata": {},
     "source": [
      "Note the ``L`` at the end of the number: this shows that the integer displayed is of type ``long`` and not of type ``int``."
     ]
    },
    {
     "cell_type": "markdown",
     "metadata": {},
     "source": [
      "Large integer numbers occur every now and then. One example is that of working out propabilities for events using fractions of possible combinations, see for example the entry on the likelihood of two people having the same birthday in a group of $r$ people at http://rebrained.com/?p=317 (you may need to click on 'answer' on that page to see the full story). An expression like $365^r$ exceeds ``sys.maxint`` for the system used here for $r \\ge 4$."
     ]
    },
    {
     "cell_type": "markdown",
     "metadata": {},
     "source": [
      "In principle, there is no upper limit to the size of the integers of type ``long``. However, as the computation is now done at the software level (where any mathematical operations with objects of type ``long`` have to be reduced to those that the CPU can carry out), there is a performance penalty in comparison to using the (hardware-supported) ``int`` objects."
     ]
    },
    {
     "cell_type": "markdown",
     "metadata": {},
     "source": [
      "# How much slower is ``long`` in comparison to ``int``?"
     ]
    },
    {
     "cell_type": "code",
     "collapsed": false,
     "input": [
      "import timeit\n",
      "N = 10 ** 5\n",
      "min(timeit.repeat('%d / 2 + %d / 2' % (a, a), number=N, repeat=10)) / N"
     ],
     "language": "python",
     "metadata": {},
     "outputs": [
      {
       "output_type": "pyout",
       "prompt_number": 5,
       "text": [
        "2.0206928253173827e-07"
       ]
      }
     ],
     "prompt_number": 5
    },
    {
     "cell_type": "markdown",
     "metadata": {},
     "source": [
      "So the operation of taking an integer object ``a``, and dividing it by ``2``, and adding it to ``a / 2``, takes\n",
      "about 2e-7 = 0.15 micro seconds.\n",
      "\n",
      "How long does it take to do the same operation ``a / 2 + a / 2`` with an ``a`` of type ``long``?"
     ]
    },
    {
     "cell_type": "code",
     "collapsed": false,
     "input": [
      "b = sys.maxint + 1\n",
      "type(b)"
     ],
     "language": "python",
     "metadata": {},
     "outputs": [
      {
       "output_type": "pyout",
       "prompt_number": 6,
       "text": [
        "long"
       ]
      }
     ],
     "prompt_number": 6
    },
    {
     "cell_type": "code",
     "collapsed": false,
     "input": [
      "min(timeit.repeat('%d / 2 + %d / 2' % (b, b), number=N, repeat=10)) / N"
     ],
     "language": "python",
     "metadata": {},
     "outputs": [
      {
       "output_type": "pyout",
       "prompt_number": 7,
       "text": [
        "4.984903335571289e-07"
       ]
      }
     ],
     "prompt_number": 7
    },
    {
     "cell_type": "markdown",
     "metadata": {},
     "source": [
      "It takes about about 3 times as long as for the ``int``. That is actually not so bad. \n",
      "\n",
      "The [timeit](http://docs.python.org/library/timeit.html#module-timeit) module is a convenient tool to time small pieces of Python code. It carries out the operation many times (``N`` times) and thus this will average over CPU load fluctuations on the system and give better performance data than a single execution of the statement. It also repeats the whole measurement (here 10 times), and returns a list with 10 numbers, each corresponding to the time taken for one measurement. Following the [recommended procedure](http://docs.python.org/2/library/timeit.html#timeit.Timer.repeat), we take the minimum time of these repeated measurements as the best number for execution time. \n",
      "\n",
      "It might be interesting to look at the time it takes for the same integer operation as a function of the size of the number. In particular, let us do the same operation for numbers $x = 1, 10, 100, 1000, \\ldots, 10^p$ which we label by the number of digits $p$ through $x = 10^p$."
     ]
    },
    {
     "cell_type": "code",
     "collapsed": true,
     "input": [
      "import pylab\n",
      "def measure_long_calc(powers):\n",
      "    ts = []\n",
      "    N = 100000\n",
      "    for p in powers:\n",
      "        cmd = 'b=10 ** %s; c = b / 2 + b / 2;' % (p)\n",
      "        t = min(timeit.repeat(cmd, number=N, repeat=10))/N\n",
      "        ts.append(t)\n",
      "        print(\"t=%10.3e p=%s\" % (t,p))\n",
      "    pylab.plot(powers,ts,'o') \n",
      "    pylab.xlabel('number of digits p of integer')\n",
      "    pylab.ylabel('time taken [s]')\n",
      "    pylab.title('time for exec(\"10**%s; c = b/2 + b/2\" % p)')\n",
      "    pylab.savefig('plot.png')\n",
      "    pylab.savefig('plot.pdf')\n",
      "    return powers, ts"
     ],
     "language": "python",
     "metadata": {},
     "outputs": [],
     "prompt_number": 8
    },
    {
     "cell_type": "code",
     "collapsed": false,
     "input": [
      "ps, ts = measure_long_calc(range(1,14))"
     ],
     "language": "python",
     "metadata": {},
     "outputs": [
      {
       "output_type": "stream",
       "stream": "stdout",
       "text": [
        "t= 1.436e-07 p=1\n",
        "t= 1.435e-07 p=2"
       ]
      },
      {
       "output_type": "stream",
       "stream": "stdout",
       "text": [
        "\n",
        "t= 1.626e-07 p=3"
       ]
      },
      {
       "output_type": "stream",
       "stream": "stdout",
       "text": [
        "\n",
        "t= 1.577e-07 p=4"
       ]
      },
      {
       "output_type": "stream",
       "stream": "stdout",
       "text": [
        "\n",
        "t= 1.553e-07 p=5"
       ]
      },
      {
       "output_type": "stream",
       "stream": "stdout",
       "text": [
        "\n",
        "t= 1.618e-07 p=6"
       ]
      },
      {
       "output_type": "stream",
       "stream": "stdout",
       "text": [
        "\n",
        "t= 1.537e-07 p=7"
       ]
      },
      {
       "output_type": "stream",
       "stream": "stdout",
       "text": [
        "\n",
        "t= 1.544e-07 p=8"
       ]
      },
      {
       "output_type": "stream",
       "stream": "stdout",
       "text": [
        "\n",
        "t= 1.535e-07 p=9"
       ]
      },
      {
       "output_type": "stream",
       "stream": "stdout",
       "text": [
        "\n",
        "t= 4.652e-07 p=10"
       ]
      },
      {
       "output_type": "stream",
       "stream": "stdout",
       "text": [
        "\n",
        "t= 4.644e-07 p=11"
       ]
      },
      {
       "output_type": "stream",
       "stream": "stdout",
       "text": [
        "\n",
        "t= 4.639e-07 p=12"
       ]
      },
      {
       "output_type": "stream",
       "stream": "stdout",
       "text": [
        "\n",
        "t= 4.690e-07 p=13"
       ]
      },
      {
       "output_type": "stream",
       "stream": "stdout",
       "text": [
        "\n"
       ]
      },
      {
       "output_type": "display_data",
       "png": "[encoded data removed]"
      }
     ],
     "prompt_number": 9
    },
    {
     "cell_type": "markdown",
     "metadata": {},
     "source": [
      "We can see that calculation time is approximately constant for up to 9 digits. This is the range of numbers up to 1,000,000,000 which is below ``sys.maxint`` as shown above, and thus the operations are carried out in the hardware.\n",
      "\n",
      "For 10 and more digits, the numbers $\\ge 10^{10}$ are emulated in software, and thus execution time increases significantly. As seen above, the step is approximately from 0.15 micro seconds to 0.6 microseconds, *i.e.* roughly a factor 3 to 4.\n",
      "\n",
      "As the long data type has no limit on the number of digits in a long integer number, one may ask how the computation time changes as a function of the length of a long number. Repeating the calculation above for a wider set of values $p$, now ranging up to 900 digits, results in the following data:\n"
     ]
    },
    {
     "cell_type": "code",
     "collapsed": false,
     "input": [
      "ps, ts = measure_long_calc(range(11,1000,100))"
     ],
     "language": "python",
     "metadata": {},
     "outputs": [
      {
       "output_type": "stream",
       "stream": "stdout",
       "text": [
        "t= 4.715e-07 p=11\n",
        "t= 1.198e-06 p=111"
       ]
      },
      {
       "output_type": "stream",
       "stream": "stdout",
       "text": [
        "\n",
        "t= 1.932e-06 p=211"
       ]
      },
      {
       "output_type": "stream",
       "stream": "stdout",
       "text": [
        "\n",
        "t= 2.707e-06 p=311"
       ]
      },
      {
       "output_type": "stream",
       "stream": "stdout",
       "text": [
        "\n",
        "t= 3.489e-06 p=411"
       ]
      },
      {
       "output_type": "stream",
       "stream": "stdout",
       "text": [
        "\n",
        "t= 4.197e-06 p=511"
       ]
      },
      {
       "output_type": "stream",
       "stream": "stdout",
       "text": [
        "\n",
        "t= 5.427e-06 p=611"
       ]
      },
      {
       "output_type": "stream",
       "stream": "stdout",
       "text": [
        "\n",
        "t= 6.150e-06 p=711"
       ]
      },
      {
       "output_type": "stream",
       "stream": "stdout",
       "text": [
        "\n",
        "t= 6.818e-06 p=811"
       ]
      },
      {
       "output_type": "stream",
       "stream": "stdout",
       "text": [
        "\n",
        "t= 7.699e-06 p=911"
       ]
      },
      {
       "output_type": "stream",
       "stream": "stdout",
       "text": [
        "\n"
       ]
      },
      {
       "output_type": "display_data",
       "png": "[encoded data removed]"
      }
     ],
     "prompt_number": 10
    },
    {
     "cell_type": "markdown",
     "metadata": {},
     "source": [
      "The execution time increases linearly with the number of digits. \n",
      "\n",
      "We can fit a linear polynomial (i.e. $f(x) = c_0 + c_1 x$) through the plotted data to find\n"
     ]
    },
    {
     "cell_type": "code",
     "collapsed": false,
     "input": [
      "from numpy import polyfit\n",
      "c1, c0 = polyfit(ps, ts, 1)\n",
      "y = c0+c1*np.array(ps)\n",
      "plot(ps, y,'-')\n",
      "plot(ps,ts,'o')\n",
      "xlabel('p')\n",
      "ylabel('time [s]')\n",
      "print(\"Coefficient c1=%.3g (and c0=%g).\" % (c1, c0))"
     ],
     "language": "python",
     "metadata": {},
     "outputs": [
      {
       "output_type": "stream",
       "stream": "stdout",
       "text": [
        "Coefficient c1=8.14e-09 (and c0=2.55216e-07).\n"
       ]
      },
      {
       "output_type": "display_data",
       "png": "[encoded data removed]"
      }
     ],
     "prompt_number": 11
    },
    {
     "cell_type": "markdown",
     "metadata": {},
     "source": [
      "Following this model and fit over a large range of digits ``p``, it takes $c_1 \\approx 8\\mathrm{ns} = 0.08 \\mu\\mathrm{s}$ *per digit* in the variable of type ``long`` for the calculations used for these timings, plus an offset of $c_0$ seconds. \n",
      "\n",
      "The time for the hardware based calculation for up to 11 digits was $\\approx 0.15 \\mu\\mathrm{s}$. A quick consistence check: according to the fitted linear model, 11 digits software based calculation would take $11c_1 + c_0$, i.e."
     ]
    },
    {
     "cell_type": "code",
     "collapsed": false,
     "input": [
      "c1 * 11 + c0"
     ],
     "language": "python",
     "metadata": {},
     "outputs": [
      {
       "output_type": "pyout",
       "prompt_number": 12,
       "text": [
        "3.4477879784323773e-07"
       ]
      }
     ],
     "prompt_number": 12
    },
    {
     "cell_type": "markdown",
     "metadata": {},
     "source": [
      "The time we had found above for the smallest long calculation was about 4.5e-07."
     ]
    },
    {
     "cell_type": "markdown",
     "metadata": {},
     "source": [
      "Finally, the system used for these timings is a MacBook Air, 11 inch, Mid 2012, 1.7 GHz Intel Core i5, Memory 8 GB 1600 MHz DDR3,  OS X 10.8.2, Python 2.7 (Enthought Distribution) with Ipython 0.13.1."
     ]
    }
   ],
   "metadata": {}
  }
 ]
}