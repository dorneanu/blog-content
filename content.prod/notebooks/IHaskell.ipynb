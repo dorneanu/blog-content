{
 "metadata": {
  "language": "haskell",
  "name": ""
 },
 "nbformat": 3,
 "nbformat_minor": 0,
 "worksheets": [
  {
   "cells": [
    {
     "cell_type": "markdown",
     "metadata": {},
     "source": [
      "![](https://raw2.github.com/gibiansky/IHaskell/master/images/ihaskell-logo-small.png)\n",
      "\n",
      "IHaskell Notebook\n",
      "===\n",
      "Hello, and welcome to the **IHaskell Notebook**. IHaskell Notebook is similar to an interactive shell along the lines of GHCi. However, it is much more powerful, and provides features such as syntax highlighting, autocompletion, multi-line input cells, integrated documentation, rich output visualization, and more. In this notebook, I'd like to demonstrate many of the awesome features IHaskell provides.\n",
      "\n",
      "IHaskell is implemented as a language kernel for the [IPython](http://ipython.org) project, which means that although the entire thing is written only in Haskell, we get a beautiful notebook interface practically for free.\n",
      "\n",
      "We can start with very simple Haskell expressions:"
     ]
    },
    {
     "cell_type": "code",
     "collapsed": false,
     "input": [
      "-- First of all, we can evaluate simple expressions.\n",
      "3 + 5\n",
      "\"Hello, \" ++ \"World!\""
     ],
     "language": "python",
     "metadata": {},
     "outputs": [
      {
       "ename": "SyntaxError",
       "evalue": "invalid syntax (<ipython-input-1-ef9006600de8>, line 1)",
       "output_type": "pyerr",
       "traceback": [
        "\u001b[1;36m  File \u001b[1;32m\"<ipython-input-1-ef9006600de8>\"\u001b[1;36m, line \u001b[1;32m1\u001b[0m\n\u001b[1;33m    -- First of all, we can evaluate simple expressions.\u001b[0m\n\u001b[1;37m              ^\u001b[0m\n\u001b[1;31mSyntaxError\u001b[0m\u001b[1;31m:\u001b[0m invalid syntax\n"
       ]
      }
     ],
     "prompt_number": 1
    },
    {
     "cell_type": "code",
     "collapsed": false,
     "input": [],
     "language": "python",
     "metadata": {},
     "outputs": []
    },
    {
     "cell_type": "markdown",
     "metadata": {},
     "source": [
      "As you can see, each input cell get an execution number. The first input cell is labeled `In [1]`. Just like in GHCi, the output of the last executed statement or expression is available via the `it` variable - however, in addition, the output of the $n$th cell is available via the `itN` variable. For example, if we wanted to see what the first cell printed, we can go ahead and output that:"
     ]
    },
    {
     "cell_type": "code",
     "collapsed": false,
     "input": [
      "it1"
     ],
     "language": "python",
     "metadata": {},
     "outputs": [
      {
       "metadata": {},
       "output_type": "display_data",
       "text": [
        "\"Hello, World!\""
       ]
      }
     ],
     "prompt_number": 2
    },
    {
     "cell_type": "markdown",
     "metadata": {},
     "source": [
      "In addition to simple code cells such as the ones you see, you can also have other types of cells. All of this inline text, for instance, is written using Markdown cells, which support the majority of Github markdown syntax. This lets you embed images and formatting and arbitrary HTML interspersed with your Haskell code. In addition, you can export these notebooks into HTML or even as presentations using `reveal.js`. \n",
      "\n",
      "Alright, back to code. Let's do something slightly fancier:"
     ]
    },
    {
     "cell_type": "code",
     "collapsed": false,
     "input": [
      "-- Unlike in GHCi, we can have multi-line expressions.\n",
      "concat [\n",
      "  \"Hello\",\n",
      "  \", \",\n",
      "  \"World!\"\n",
      "  ] :: String"
     ],
     "language": "python",
     "metadata": {},
     "outputs": [
      {
       "metadata": {},
       "output_type": "display_data",
       "text": [
        "\"Hello, World!\""
       ]
      }
     ],
     "prompt_number": 3
    },
    {
     "cell_type": "markdown",
     "metadata": {},
     "source": [
      "In addition to multi-line expressions, IHaskell supports most things that you could put in a standard Haskell file. For example, we can  have function bindings without the `let` that GHCi requires. (As long as you group type signatures and their corresponding declarations together, you can use pattern matching and put signatures on your top-level declarations!)"
     ]
    },
    {
     "cell_type": "code",
     "collapsed": false,
     "input": [
      "thing :: String -> Int -> Int\n",
      "thing \"no\" _ = 100\n",
      "thing str int = int + length str\n",
      "\n",
      "thing \"no\" 10\n",
      "thing \"ah\" 10"
     ],
     "language": "python",
     "metadata": {},
     "outputs": [
      {
       "metadata": {},
       "output_type": "display_data",
       "text": [
        "100"
       ]
      },
      {
       "metadata": {},
       "output_type": "display_data",
       "text": [
        "12"
       ]
      }
     ],
     "prompt_number": 4
    },
    {
     "cell_type": "markdown",
     "metadata": {},
     "source": [
      "So far we've just looked at pure functions, but nothing is stopping us from doing IO."
     ]
    },
    {
     "cell_type": "code",
     "collapsed": false,
     "input": [
      "print \"What's going on?\""
     ],
     "language": "python",
     "metadata": {},
     "outputs": [
      {
       "metadata": {},
       "output_type": "display_data",
       "text": [
        "\"What's going on?\""
       ]
      }
     ],
     "prompt_number": 5
    },
    {
     "cell_type": "markdown",
     "metadata": {},
     "source": [
      "IHaskell supports most GHC extensions via the `:extension` directive (or any shorthand thereof)."
     ]
    },
    {
     "cell_type": "code",
     "collapsed": false,
     "input": [
      "-- We can disable extensions.\n",
      ":ext NoEmptyDataDecls\n",
      "data Thing"
     ],
     "language": "python",
     "metadata": {},
     "outputs": [
      {
       "html": [
        "<span class='err-msg'>`Thing' has no constructors (-XEmptyDataDecls permits this)<br/>In the data declaration for `Thing'</span>"
       ],
       "metadata": {},
       "output_type": "display_data",
       "text": [
        "`Thing' has no constructors (-XEmptyDataDecls permits this)\n",
        "In the data declaration for `Thing'"
       ]
      }
     ],
     "prompt_number": 6
    },
    {
     "cell_type": "code",
     "collapsed": false,
     "input": [
      "-- And enable extensions.\n",
      ":ext EmptyDataDecls\n",
      "data Thing"
     ],
     "language": "python",
     "metadata": {},
     "outputs": [],
     "prompt_number": 7
    },
    {
     "cell_type": "markdown",
     "metadata": {},
     "source": [
      "Data declarations do pretty much what you expect, and work fine on multiple lines. If a declaration turns out to be not quite what you wanted, you can just go back, edit it, and re-evaluate the code cell."
     ]
    },
    {
     "cell_type": "code",
     "collapsed": false,
     "input": [
      "-- Various data declarations work fine.\n",
      "data One\n",
      "     = A String\n",
      "     | B Int\n",
      "     deriving Show\n",
      "\n",
      "print [A \"Hello\", B 10]"
     ],
     "language": "python",
     "metadata": {},
     "outputs": [
      {
       "metadata": {},
       "output_type": "display_data",
       "text": [
        "[A \"Hello\",B 10]"
       ]
      }
     ],
     "prompt_number": 8
    },
    {
     "cell_type": "markdown",
     "metadata": {},
     "source": [
      "Although this doesn't hold everywhere, we've tried to keep IHaskell relatively similar to GHCi in terms of naming. So, just like in GHCi, you can inspect types with `:type` (or shorthands):"
     ]
    },
    {
     "cell_type": "code",
     "collapsed": false,
     "input": [
      "-- We can look at types like in GHCi.\n",
      ":ty 3 + 3"
     ],
     "language": "python",
     "metadata": {},
     "outputs": [
      {
       "html": [
        "<span class='get-type'>forall a. Num a => a</span>"
       ],
       "metadata": {},
       "output_type": "display_data",
       "text": [
        "forall a. Num a => a"
       ]
      }
     ],
     "prompt_number": 9
    },
    {
     "cell_type": "markdown",
     "metadata": {},
     "source": [
      "The same goes for the `:info` command. However, unlike GHCi, which simply prints info, the IHaskell notebook brings up a separate pane."
     ]
    },
    {
     "cell_type": "code",
     "collapsed": false,
     "input": [
      "-- What is the Integral typeclass?\n",
      ":info Integral"
     ],
     "language": "python",
     "metadata": {},
     "outputs": [
      {
       "metadata": {},
       "output_type": "display_data"
      }
     ],
     "prompt_number": 10
    },
    {
     "cell_type": "markdown",
     "metadata": {},
     "source": [
      "If you're looking at this notebook after it's been exported to HTML, you won't be able to see this interactive pane. However, it looks approximately like this:\n",
      "\n",
      "![](https://raw2.github.com/gibiansky/IHaskell/master/demo/info-demo.png)"
     ]
    },
    {
     "cell_type": "markdown",
     "metadata": {},
     "source": [
      "We can now write slightly more complicated scripts."
     ]
    },
    {
     "cell_type": "code",
     "collapsed": false,
     "input": [
      "-- Results are printed as we go, even from a single expression.\n",
      "import Control.Monad\n",
      "import Control.Concurrent\n",
      "\n",
      "forM_ [1..5] $ \\x -> do\n",
      "  print x\n",
      "  threadDelay $ 200 * 1000"
     ],
     "language": "python",
     "metadata": {},
     "outputs": [
      {
       "metadata": {},
       "output_type": "display_data",
       "text": [
        "1\n",
        "2\n",
        "3\n",
        "4\n",
        "5"
       ]
      }
     ],
     "prompt_number": 11
    },
    {
     "cell_type": "markdown",
     "metadata": {},
     "source": [
      "This is where the similarities with GHCi end, and the particularly shiny features of IHaskell begin.\n",
      "\n",
      "Although looking at text outputs is often enough, there are many times where we really want a richer output. Suppose we have a custom data type for color:"
     ]
    },
    {
     "cell_type": "code",
     "collapsed": false,
     "input": [
      "data Color = Red | Green | Blue"
     ],
     "language": "python",
     "metadata": {},
     "outputs": [],
     "prompt_number": 12
    },
    {
     "cell_type": "markdown",
     "metadata": {},
     "source": [
      "If we were playing around with designing GUI applications, for instance, we might want to actually *see* these colors, instead of just seeing the text \"Red\", \"Green\", and \"Blue\" when we are debugging.\n",
      "\n",
      "IHaskell lets you define a custom display mechanism for any data type via its `IHaskellDisplay` typeclass. Since you can  use IHaskell in console mode as well as notebook mode, you can provide a list of display outputs for any data type, and the frontend will simply choose the best one. Here's how you would implement a very simple display mechanism for this `Color` data type:"
     ]
    },
    {
     "cell_type": "code",
     "collapsed": false,
     "input": [
      "import IHaskell.Display\n",
      "\n",
      "instance IHaskellDisplay Color where\n",
      "  display color = return $ Display [html code]\n",
      "    where\n",
      "      code = concat [\"<div style='font-weight: bold; color:\"\n",
      "                    , css color\n",
      "                    , \"'>Look!</div>\"]\n",
      "      css Red   = \"red\"\n",
      "      css Blue  = \"blue\"\n",
      "      css Green = \"green\""
     ],
     "language": "python",
     "metadata": {},
     "outputs": [],
     "prompt_number": 13
    },
    {
     "cell_type": "markdown",
     "metadata": {},
     "source": [
      "Once we define a custom `display :: a -> IO Display` function, we can simply output a `Color`:"
     ]
    },
    {
     "cell_type": "code",
     "collapsed": false,
     "input": [
      "Red\n",
      "Green\n",
      "Blue"
     ],
     "language": "python",
     "metadata": {},
     "outputs": [
      {
       "html": [
        "<div style='font-weight: bold; color:red'>Look!</div>"
       ],
       "metadata": {},
       "output_type": "display_data"
      },
      {
       "html": [
        "<div style='font-weight: bold; color:green'>Look!</div>"
       ],
       "metadata": {},
       "output_type": "display_data"
      },
      {
       "html": [
        "<div style='font-weight: bold; color:blue'>Look!</div>"
       ],
       "metadata": {},
       "output_type": "display_data"
      }
     ],
     "prompt_number": 14
    },
    {
     "cell_type": "markdown",
     "metadata": {},
     "source": [
      "The `DisplayData` type has several constructors which let you display your data as plain text, HTML, images (SVG, PNG, JPG), or even as LaTeX code.\n",
      "\n",
      "In order to ship an extension for IHaskell, simply create a package named `ihaskell-thing` with a module named `IHaskell.Display.Thing`. As long as `ihaskell-thing` is installed, IHaskell will detect and use it automatically.\n",
      "\n",
      "A number of packages already exist, which we can briefly look at. First, in `ihaskell-basic`, we have very simple displays for data types from `Prelude`."
     ]
    },
    {
     "cell_type": "code",
     "collapsed": false,
     "input": [
      "-- We can display Maybes fancily for Show-able types.\n",
      "Just ()\n",
      "Nothing\n",
      "\n",
      "-- But it dies if it's not showable.\n",
      "data NoShow = X Int\n",
      "Just (X 3)"
     ],
     "language": "python",
     "metadata": {},
     "outputs": [
      {
       "html": [
        "<span style='color: green; font-weight: bold;'>Just</span><span style='font-family: monospace;'>()</span>"
       ],
       "metadata": {},
       "output_type": "display_data",
       "text": [
        "Just ()"
       ]
      },
      {
       "html": [
        "<span style='color: red; font-weight: bold;'>Nothing</span>"
       ],
       "metadata": {},
       "output_type": "display_data",
       "text": [
        "Nothing"
       ]
      },
      {
       "html": [
        "<div class='collapse-group'><span class='btn' href='#' id='unshowable'>Unshowable:<span class='show-type'>NoShow</span></span><span class='err-msg collapse'>No instance for (Show NoShow) arising from a use of `print'<br/>Possible fix: add an instance declaration for (Show NoShow)<br/>In a stmt of an interactive GHCi command: print it</span></div><script>$('#unshowable').on('click', function(e) {\n",
        "    e.preventDefault();\n",
        "    var $this = $(this);\n",
        "    var $collapse = $this.closest('.collapse-group').find('.err-msg');\n",
        "    $collapse.collapse('toggle');\n",
        "});\n",
        "</script>"
       ],
       "metadata": {},
       "output_type": "display_data",
       "text": [
        "No instance for (Show NoShow) arising from a use of `print'\n",
        "Possible fix: add an instance declaration for (Show NoShow)\n",
        "In a stmt of an interactive GHCi command: print it"
       ]
      }
     ],
     "prompt_number": 15
    },
    {
     "cell_type": "markdown",
     "metadata": {},
     "source": [
      "The `ihaskell-aeson` package adds a display for [Aeson](http://hackage.haskell.org/package/aeson) JSON `Value` types. These are automatically syntax highlighted and formatted nicely."
     ]
    },
    {
     "cell_type": "code",
     "collapsed": false,
     "input": [
      "-- Aeson JSON data types are displayed nicely.\n",
      ":ext OverloadedStrings\n",
      "\n",
      "import Data.Aeson\n",
      "\n",
      "data Coord  = Coord { x :: Double, y :: Double }\n",
      "instance ToJSON Coord where\n",
      "   toJSON (Coord x y) = object [\"x\" .= x, \"y\" .= y]\n",
      "\n",
      "Null\n",
      "Bool True\n",
      "toJSON (Coord 3 2)"
     ],
     "language": "python",
     "metadata": {},
     "outputs": [
      {
       "html": [
        "<div class=\"highlight-code\" id=\"javascript\">null</div>"
       ],
       "metadata": {},
       "output_type": "display_data",
       "text": [
        "null"
       ]
      },
      {
       "html": [
        "<div class=\"highlight-code\" id=\"javascript\">true</div>"
       ],
       "metadata": {},
       "output_type": "display_data",
       "text": [
        "true"
       ]
      },
      {
       "html": [
        "<div class=\"highlight-code\" id=\"javascript\">{\n",
        "    \"x\": 3,\n",
        "    \"y\": 2\n",
        "}</div>"
       ],
       "metadata": {},
       "output_type": "display_data",
       "text": [
        "{\n",
        "    \"x\": 3,\n",
        "    \"y\": 2\n",
        "}"
       ]
      }
     ],
     "prompt_number": 16
    },
    {
     "cell_type": "markdown",
     "metadata": {},
     "source": [
      "This syntax highlighting may not show up in the exported HTML, as it is done on the fly with Javascript. The result looks like this in the notebook:\n",
      "\n",
      "![](https://raw2.github.com/gibiansky/IHaskell/master/demo/json-demo.png)"
     ]
    },
    {
     "cell_type": "markdown",
     "metadata": {},
     "source": [
      "The `ihaskell-blaze` package lets you play around with HTML straight from within IHaskell using the [Blaze](http://jaspervdj.be/blaze/tutorial.html) library."
     ]
    },
    {
     "cell_type": "code",
     "collapsed": false,
     "input": [
      "-- Small bits of HTML generated via Blaze are displayed.\n",
      "\n",
      "import Prelude hiding (div, id)\n",
      "import Text.Blaze.Html4.Strict hiding (map, style)\n",
      "import Text.Blaze.Html4.Strict.Attributes\n",
      "\n",
      "div ! style \"color: red\" $ do\n",
      "    p \"This is an example of BlazeMarkup syntax.\"\n",
      "    b \"Hello\"\n",
      "    \n",
      "forM [1..5] $ \\size -> do\n",
      "  let s = toValue $ size * 70\n",
      "  img ! src \"https://www.google.com/images/srpr/logo11w.png\" ! width s"
     ],
     "language": "python",
     "metadata": {},
     "outputs": [
      {
       "html": [
        "<div style=\"color: red\">\n",
        "    <p>\n",
        "        This is an example of BlazeMarkup syntax.\n",
        "    </p>\n",
        "    <b>\n",
        "        Hello\n",
        "    </b>\n",
        "</div>\n"
       ],
       "metadata": {},
       "output_type": "display_data",
       "text": [
        "<div style=\"color: red\">\n",
        "    <p>\n",
        "        This is an example of BlazeMarkup syntax.\n",
        "    </p>\n",
        "    <b>\n",
        "        Hello\n",
        "    </b>\n",
        "</div>"
       ]
      },
      {
       "html": [
        "<img src=\"https://www.google.com/images/srpr/logo11w.png\" width=\"70\">\n",
        "<img src=\"https://www.google.com/images/srpr/logo11w.png\" width=\"140\">\n",
        "<img src=\"https://www.google.com/images/srpr/logo11w.png\" width=\"210\">\n",
        "<img src=\"https://www.google.com/images/srpr/logo11w.png\" width=\"280\">\n",
        "<img src=\"https://www.google.com/images/srpr/logo11w.png\" width=\"350\">\n"
       ],
       "metadata": {},
       "output_type": "display_data",
       "text": [
        "<img src=\"https://www.google.com/images/srpr/logo11w.png\" width=\"70\">\n",
        "<img src=\"https://www.google.com/images/srpr/logo11w.png\" width=\"140\">\n",
        "<img src=\"https://www.google.com/images/srpr/logo11w.png\" width=\"210\">\n",
        "<img src=\"https://www.google.com/images/srpr/logo11w.png\" width=\"280\">\n",
        "<img src=\"https://www.google.com/images/srpr/logo11w.png\" width=\"350\">"
       ]
      }
     ],
     "prompt_number": 17
    },
    {
     "cell_type": "markdown",
     "metadata": {},
     "source": [
      "The `ihaskell-diagrams` package allows you to experiment with the [diagrams](http://projects.haskell.org/diagrams/) package. It requires the Cairo backend."
     ]
    },
    {
     "cell_type": "code",
     "collapsed": false,
     "input": [
      "-- We can draw diagrams, right in the notebook.\n",
      ":extension NoMonomorphismRestriction\n",
      "import Diagrams.Prelude\n",
      "\n",
      "-- By Brent Yorgey\n",
      "-- Draw a Sierpinski triangle!\n",
      "sierpinski 1 = eqTriangle 1\n",
      "sierpinski n =     s\n",
      "                  ===\n",
      "               (s ||| s) # centerX\n",
      "  where s = sierpinski (n-1)\n",
      "\n",
      "-- The `diagram` function is used to display them in the notebook.\n",
      "diagram $ sierpinski 4\n",
      "            # centerXY\n",
      "            # fc black\n",
      "          `atop` square 10\n",
      "                   # fc white"
     ],
     "language": "python",
     "metadata": {},
     "outputs": [
      {
       "html": [
        "<span class='err-msg'></span>"
       ],
       "metadata": {},
       "output_type": "display_data",
       "text": []
      }
     ],
     "prompt_number": 21
    },
    {
     "cell_type": "markdown",
     "metadata": {},
     "source": [
      "Just like with Diagrams, `ihaskell-charts` allows you to use the [Chart](https://github.com/timbod7/haskell-chart/wiki) library for plotting from within IHaskell. (You will need to install `cairo` as well, which may be a bit of a hassle.)"
     ]
    },
    {
     "cell_type": "code",
     "collapsed": false,
     "input": [
      "-- We can draw small charts in the notebook.\n",
      "-- This example is taken from the haskell-chart documentation.\n",
      "import Graphics.Rendering.Chart \n",
      "import Data.Default.Class\n",
      "import Control.Lens\n",
      "\n",
      "let values = [\n",
      "     (\"Mexico City\"  , 19.2, 0),\n",
      "     (\"Mumbai\"       , 12.9, 10), \n",
      "     (\"Sydney\"       , 4.3,  0),\n",
      "     (\"London\"       , 8.3,  0), \n",
      "     (\"New York\"     , 8.2,  25)]\n",
      "     \n",
      "pitem (s, v, o) = pitem_value .~ v\n",
      "                $ pitem_label .~ s\n",
      "                $ pitem_offset .~ o\n",
      "                $ def  \n",
      "\n",
      "-- Convert to a renderable in order to display it.\n",
      "toRenderable \n",
      "  $ pie_title .~ \"Relative Population\"\n",
      "  $ pie_plot . pie_data .~ map pitem values\n",
      "  $ def"
     ],
     "language": "python",
     "metadata": {},
     "outputs": [
      {
       "html": [
        "<img src=\"data:image/svg+xml;base64,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\"/>"
       ],
       "metadata": {},
       "output_type": "display_data",
       "png": "[encoded data removed]"
      }
     ],
     "prompt_number": 19
    },
    {
     "cell_type": "markdown",
     "metadata": {},
     "source": [
      "By default, both `ihaskell-diagrams` and `ihaskell-chart` use SVG displays. However, the notebook does not support interactive resizing for SVG image. However, if you use `:set no-svg`, all SVG outputs will instead be shown as PNG images, and they can be resized easily."
     ]
    },
    {
     "cell_type": "code",
     "collapsed": false,
     "input": [
      ":opt no-svg\n",
      "\n",
      "toRenderable \n",
      "  $ pie_title .~ \"Relative Population\"\n",
      "  $ pie_plot . pie_data .~ map pitem values\n",
      "  $ def"
     ],
     "language": "python",
     "metadata": {},
     "outputs": [
      {
       "metadata": {},
       "output_type": "display_data",
       "png": "[encoded data removed]"
      }
     ],
     "prompt_number": 20
    },
    {
     "cell_type": "markdown",
     "metadata": {},
     "source": [
      "Finally, the `ihaskell-magic` chart uses the [magic](http://hackage.haskell.org/package/magic) library (bindings to `libmagic`) to create a display mechanism for `ByteString`s. If you try to load an image, for instance, you will see that image immediately in the notebook."
     ]
    },
    {
     "cell_type": "code",
     "collapsed": false,
     "input": [
      "import qualified Data.ByteString as B\n",
      "B.readFile \"code/IHaskell/images/ihaskell-notebook.png\""
     ],
     "language": "python",
     "metadata": {},
     "outputs": [
      {
       "metadata": {},
       "output_type": "display_data",
       "png": "[encoded data removed]"
      }
     ],
     "prompt_number": 21
    },
    {
     "cell_type": "markdown",
     "metadata": {},
     "source": [
      "In addition to displaying outputs in a rich format, IHaskell has a bunch of useful features.\n",
      "\n",
      "For instance, the popular linting tool `hlint` is integrated and turned on by default. Let's write some ugly code, and see what it tells us:"
     ]
    },
    {
     "cell_type": "code",
     "collapsed": false,
     "input": [
      "-- There is also hlint integration enabled by default.\n",
      "-- If you write sketchy code, it will tell you:\n",
      "f :: Int -> Int\n",
      "f x = x + 1\n",
      "\n",
      "-- Most warnings are orange...\n",
      "f $ 3\n",
      "\n",
      "-- But more severe warnings are red.\n",
      "putStrLn (show 3)\n",
      "do\n",
      "  return 3"
     ],
     "language": "python",
     "metadata": {},
     "outputs": [
      {
       "html": [
        " <div class=\"suggestion-name\" style=\"clear:both;\"> Redundant $</div>  <div class=\"suggestion-row\" style=\"float: left;\"> <div class=\"suggestion-warning\">Found:</div>  <div class=\"highlight-code\" id=\"haskell\">  f $ 3\n",
        "</div> </div>  <div class=\"suggestion-row\" style=\"float: left;\"> <div class=\"suggestion-warning\">Why Not:</div>  <div class=\"highlight-code\" id=\"haskell\">  f 3\n",
        "</div> </div>  <div class=\"suggestion-name\" style=\"clear:both;\"> Use print</div>  <div class=\"suggestion-row\" style=\"float: left;\"> <div class=\"suggestion-error\">Found:</div>  <div class=\"highlight-code\" id=\"haskell\">  putStrLn (show 3)\n",
        "</div> </div>  <div class=\"suggestion-row\" style=\"float: left;\"> <div class=\"suggestion-error\">Why Not:</div>  <div class=\"highlight-code\" id=\"haskell\">  print 3\n",
        "</div> </div>  <div class=\"suggestion-name\" style=\"clear:both;\"> Redundant do</div>  <div class=\"suggestion-row\" style=\"float: left;\"> <div class=\"suggestion-error\">Found:</div>  <div class=\"highlight-code\" id=\"haskell\">  do return 3\n",
        "</div> </div>  <div class=\"suggestion-row\" style=\"float: left;\"> <div class=\"suggestion-error\">Why Not:</div>  <div class=\"highlight-code\" id=\"haskell\">  return 3\n",
        "</div> </div> "
       ],
       "metadata": {},
       "output_type": "display_data",
       "text": [
        "Line 7:  Redundant $\n",
        "Found:\n",
        "  f $ 3\n",
        "\n",
        "Why not:\n",
        "  f 3\n",
        "Line 10:  Use print\n",
        "Found:\n",
        "  putStrLn (show 3)\n",
        "\n",
        "Why not:\n",
        "  print 3\n",
        "Line 11:  Redundant do\n",
        "Found:\n",
        "  do return 3\n",
        "\n",
        "Why not:\n",
        "  return 3"
       ]
      },
      {
       "metadata": {},
       "output_type": "display_data",
       "text": [
        "4"
       ]
      },
      {
       "metadata": {},
       "output_type": "display_data",
       "text": [
        "3"
       ]
      },
      {
       "metadata": {},
       "output_type": "display_data",
       "text": [
        "3"
       ]
      }
     ],
     "prompt_number": 22
    },
    {
     "cell_type": "markdown",
     "metadata": {},
     "source": [
      "If you're an experienced Haskeller, though, and don't want `hlint` telling you what to do, you can easily turn it off:"
     ]
    },
    {
     "cell_type": "code",
     "collapsed": false,
     "input": [
      "-- If hlint annoys you, though, you can turn it off.\n",
      "-- Note that this only takes effect in the next cell execution.\n",
      ":opt no-lint"
     ],
     "language": "python",
     "metadata": {},
     "outputs": [],
     "prompt_number": 23
    },
    {
     "cell_type": "code",
     "collapsed": false,
     "input": [
      "-- You could similarly use `:opt lint` to turn it back on.\n",
      "f $ 3"
     ],
     "language": "python",
     "metadata": {},
     "outputs": [
      {
       "metadata": {},
       "output_type": "display_data",
       "text": [
        "4"
       ]
      }
     ],
     "prompt_number": 24
    },
    {
     "cell_type": "markdown",
     "metadata": {},
     "source": [
      "In addition to `hlint` integration, IHaskell also integrates **Hoogle** for documentation searches. IHaskell provides two directives for searching Hoogle. The first of these, `:document` (or shorthands), looks for exact matches."
     ]
    },
    {
     "cell_type": "code",
     "collapsed": false,
     "input": [
      ":doc filterM"
     ],
     "language": "python",
     "metadata": {},
     "outputs": [
      {
       "metadata": {},
       "output_type": "display_data"
      }
     ],
     "prompt_number": 25
    },
    {
     "cell_type": "markdown",
     "metadata": {},
     "source": [
      "Like with `:info`, the Hoogle directives use the IPython documentation pager to show you their output. You can press Escape to dismiss the pager. If you're reading this in it's HTML form, the output looks like this:\n",
      "\n",
      "![](https://raw2.github.com/gibiansky/IHaskell/master/demo/doc-demo.png)"
     ]
    },
    {
     "cell_type": "markdown",
     "metadata": {},
     "source": [
      "The other provided command is `:hoogle`. This does a normal Hoogle search, and thus lets you use imperfect matching and searching by type signature."
     ]
    },
    {
     "cell_type": "code",
     "collapsed": false,
     "input": [
      ":hoogle :: [a] -> [(a, b)]"
     ],
     "language": "python",
     "metadata": {},
     "outputs": [
      {
       "metadata": {},
       "output_type": "display_data"
      }
     ],
     "prompt_number": 26
    },
    {
     "cell_type": "markdown",
     "metadata": {},
     "source": [
      "The pager will show you documentation for things that could have that type signature or a similar one. It automatically formats inline Haskell code and hyperlinks the identifiers to their respective Haddock documentations:\n",
      "\n",
      "![](https://raw2.github.com/gibiansky/IHaskell/master/demo/hoogle-demo.png)"
     ]
    },
    {
     "cell_type": "markdown",
     "metadata": {},
     "source": [
      "If you need a refresher on all of the options, you can just use `:help`:"
     ]
    },
    {
     "cell_type": "code",
     "collapsed": false,
     "input": [
      ":help"
     ],
     "language": "python",
     "metadata": {},
     "outputs": [
      {
       "metadata": {},
       "output_type": "display_data",
       "text": [
        "The following commands are available:\n",
        "    :extension <Extension>    -  Enable a GHC extension.\n",
        "    :extension No<Extension>  -  Disable a GHC extension.\n",
        "    :type <expression>        -  Print expression type.\n",
        "    :info <name>              -  Print all info for a name.\n",
        "    :hoogle <query>           -  Search for a query on Hoogle.\n",
        "    :doc <ident>              -  Get documentation for an identifier via Hogole.\n",
        "    :set -XFlag -Wall         -  Set an option (like ghci).\n",
        "    :option <opt>             -  Set an option.\n",
        "    :option no-<opt>          -  Unset an option.\n",
        "    :?, :help                 -  Show this help text.\n",
        "\n",
        "Any prefix of the commands will also suffice, e.g. use :ty for :type.\n",
        "\n",
        "Options:\n",
        "  lint          - enable or disable linting.\n",
        "  svg           - use svg output (cannot be resized).\n",
        "  show-types    - show types of all bound names\n",
        "  show-errors   - display Show instance missing errors normally."
       ]
      }
     ],
     "prompt_number": 27
    },
    {
     "cell_type": "markdown",
     "metadata": {},
     "source": [
      "All of the code you normally put into IHaskell is (like in GHCi) interpreted. However, sometimes you've perfected a function, and now need it to run faster. In that case, you can go ahead and define a module in a single cell. As long as your module has a module header along the lines of `module Name where`, IHaskell will recognize it as a module. It will create the file `A/B.hs`, compile it, and load it. "
     ]
    },
    {
     "cell_type": "code",
     "collapsed": false,
     "input": [
      "-- If your code isn't running fast enough, you can just put it into a module.\n",
      "module A.B where\n",
      "\n",
      "fib 0 = 1\n",
      "fib 1 = 1\n",
      "fib n = fib (n-1) + fib (n-2)"
     ],
     "language": "python",
     "metadata": {},
     "outputs": [],
     "prompt_number": 28
    },
    {
     "cell_type": "markdown",
     "metadata": {},
     "source": [
      "Note that the module is by default imported unqualified, as though you had typed `import A.B`."
     ]
    },
    {
     "cell_type": "code",
     "collapsed": false,
     "input": [
      "-- The module is automatically imported unqualified.\n",
      "print $ A.B.fib 20\n",
      "print $ fib 20"
     ],
     "language": "python",
     "metadata": {},
     "outputs": [
      {
       "metadata": {},
       "output_type": "display_data",
       "text": [
        "10946"
       ]
      },
      {
       "metadata": {},
       "output_type": "display_data",
       "text": [
        "10946"
       ]
      }
     ],
     "prompt_number": 29
    },
    {
     "cell_type": "markdown",
     "metadata": {},
     "source": [
      "Note that since a new module is imported, all previous bound identifiers are now unbound. For instance, we no longer have access to the `f` function from before:"
     ]
    },
    {
     "cell_type": "code",
     "collapsed": false,
     "input": [
      "f 3"
     ],
     "language": "python",
     "metadata": {},
     "outputs": [
      {
       "html": [
        "<span class='err-msg'>Not in scope: `f'</span>"
       ],
       "metadata": {},
       "output_type": "display_data",
       "text": [
        "Not in scope: `f'"
       ]
      }
     ],
     "prompt_number": 30
    },
    {
     "cell_type": "markdown",
     "metadata": {},
     "source": [
      "However, if you re-import this module with another import statement, the original implicit import goes away."
     ]
    },
    {
     "cell_type": "code",
     "collapsed": false,
     "input": [
      "import qualified A.B as Fib\n",
      "\n",
      "Fib.fib 20\n",
      "fib 20"
     ],
     "language": "python",
     "metadata": {},
     "outputs": [
      {
       "metadata": {},
       "output_type": "display_data",
       "text": [
        "10946"
       ]
      },
      {
       "html": [
        "<span class='err-msg'>Not in scope: `fib'<br/>Perhaps you meant `Fib.fib' (imported from A.B)</span>"
       ],
       "metadata": {},
       "output_type": "display_data",
       "text": [
        "Not in scope: `fib'\n",
        "Perhaps you meant `Fib.fib' (imported from A.B)"
       ]
      }
     ],
     "prompt_number": 31
    },
    {
     "cell_type": "markdown",
     "metadata": {},
     "source": [
      "Thanks!\n",
      "---\n",
      "\n",
      "That's it for now! I hope you've enjoyed this little demo of **IHaskell**! There are still a few features that I haven't covered, such as the `show-types` and `show-errors` options, as well as the relatively intelligent autocompletion mechanism and inline type info popups.\n",
      "\n",
      "I hope you find IHaskell useful, and please report any bugs or features requests [on Github](https://github.com/gibiansky/IHaskell/issues). If you have any comments, want to contribute, or just want to get in touch, don't hesitate to contact me at Andrew dot Gibiansky at Gmail. Contributions are also more than welcome, and I'm happy to help you get started with IHaskell development if you'd like to contribute!\n",
      "\n",
      "I am also often available at `#ihaskell` on IRC at `chat.freenode.net`, so if I'm around, don't hesitate to ask questions.\n",
      "\n",
      "Thank you to [Adam Vogt](https://github.com/aavogt), [Stian H\u00e5klev](http://reganmian.net/), and [@edechter](https://github.com/edechter) for their testing, bug reporting, pull requests, and general patience!"
     ]
    }
   ],
   "metadata": {}
  }
 ]
}