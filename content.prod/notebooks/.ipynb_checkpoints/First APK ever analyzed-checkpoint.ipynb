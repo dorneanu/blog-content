{
 "metadata": {
  "name": "",
  "signature": "sha256:cded526ca0b1f901814d6db68a0757280d0e97958c6b35611240110f8c6acf1e"
 },
 "nbformat": 3,
 "nbformat_minor": 0,
 "worksheets": [
  {
   "cells": [
    {
     "cell_type": "heading",
     "level": 2,
     "metadata": {},
     "source": [
      "Start Kali Linux"
     ]
    },
    {
     "cell_type": "markdown",
     "metadata": {},
     "source": [
      "Stay safe and run the stuff isolated:\n",
      "\n",
      "~~~ shell\n",
      "\u279c  ~  virsh -c qemu:///system           \n",
      "\n",
      "Welcome to virsh, the virtualization interactive terminal.\n",
      "\n",
      "Type:  'help' for help with commands\n",
      "       'quit' to quit\n",
      "\n",
      "virsh # \n",
      "virsh # list --all\n",
      " Id    Name                           State\n",
      "----------------------------------------------------\n",
      " 2     Ubuntu.GitLab                  running\n",
      " -     Linux.Kali                     shut off\n",
      " -     Ubuntu.Tracks                  shut off\n",
      " -     Windows7                       shut off\n",
      "\n",
      "virsh # start Linux.Kali\n",
      "Domain Linux.Kali started\n",
      "\n",
      "~~~\n",
      "\n",
      "Now we're ready to login:\n",
      "\n",
      "~~~ shell\n",
      "\u279c  ~  ssh kali.local\n",
      "victor@kali.local's password: \n",
      "Linux kali 3.7-trunk-amd64 #1 SMP Debian 3.7.2-0+kali8 x86_64\n",
      "\n",
      "The programs included with the Kali GNU/Linux system are free software;\n",
      "the exact distribution terms for each program are described in the\n",
      "individual files in /usr/share/doc/*/copyright.\n",
      "\n",
      "Kali GNU/Linux comes with ABSOLUTELY NO WARRANTY, to the extent\n",
      "permitted by applicable law.\n",
      "~~~"
     ]
    },
    {
     "cell_type": "heading",
     "level": 2,
     "metadata": {},
     "source": [
      "Requirements for DroidBox"
     ]
    },
    {
     "cell_type": "markdown",
     "metadata": {},
     "source": [
      "First you'll have to install some requirements DroidBox needs. First make sure you have the system relevant packages installed:\n",
      "\n",
      "~~~ shell\n",
      "root@kali:~# apt-get install python-virtualenv libatlas-dev liblapack-dev libblas-dev\n",
      "~~~\n",
      "\n",
      "You'll need those in order to use `scipy`, `matplotlib` and `numpy` along with Droidbox. Now create a virtual environment and install *python* dependencies:\n",
      "\n",
      "~~~ shell\n",
      "root@kali:~/work/apk# mkdir env\n",
      "root@kali:~/work/apk# virtualenv env\n",
      "...\n",
      "root@kali:~/work/apk# source env/bin/activate\n",
      "(env)root@kali:~/work/apk# pip install numpy scipy matplotlib\n",
      "~~~"
     ]
    },
    {
     "cell_type": "heading",
     "level": 2,
     "metadata": {},
     "source": [
      "Install Droidbox"
     ]
    },
    {
     "cell_type": "markdown",
     "metadata": {},
     "source": [
      "Download the package:\n",
      "\n",
      "~~~ shell\n",
      "(env)root@kali:~/work/apk# wget http://droidbox.googlecode.com/files/DroidBox.tar.gz\n",
      "~~~"
     ]
    },
    {
     "cell_type": "heading",
     "level": 2,
     "metadata": {},
     "source": [
      "Install SDK"
     ]
    },
    {
     "cell_type": "markdown",
     "metadata": {},
     "source": [
      "~~~ shell\n",
      "(env)root@kali:~/work/apk/SDK# wget http://dl.google.com/android/android-sdk_r22.6.2-linux.tgz\n",
      "(env)root@kali:~/work/apk/SDK# tar -zxf android-sdk_r22.6.2-linux.tgz\n",
      "(env)root@kali:~/work/apk/SDK# export PATH=$PATH:/root/work/apk/SDK/android-sdk-linux/tools(env)root@kali:~/work/apk/SDK# which monitor\n",
      "/root/work/apk/SDK/android-sdk-linux/tools/monitor\n",
      "~~~\n",
      "\n",
      "> Make sure you have the **ia32-libs** installed."
     ]
    },
    {
     "cell_type": "heading",
     "level": 2,
     "metadata": {},
     "source": [
      "Create Android Virtual Device (ADV)"
     ]
    },
    {
     "cell_type": "markdown",
     "metadata": {},
     "source": [
      "Now you'll have to install an Android device virtually in order to analyze the APK. Supposing you have installed the SDK in the previous step now you should have some *targets* available on your machine. If not (that was my case) then make sure you have a X session running and run `android` from the console. In my case I've fired up `vnc` and connected to the Kali machine. This is what I've got:\n",
      "\n",
      "~~~ shell\n",
      "(env)root@kali:~/work/apk# android  list target\n",
      "Available Android targets:\n",
      "----------\n",
      "id: 1 or \"android-19\"\n",
      "     Name: Android 4.4.2\n",
      "     Type: Platform\n",
      "     API level: 19\n",
      "     Revision: 3\n",
      "     Skins: WXGA800-7in, WQVGA400, WVGA800 (default), WXGA800, HVGA, WSVGA, WVGA854, WQVGA432, WXGA720, QVGA\n",
      " Tag/ABIs : default/armeabi-v7a, default/x86\n",
      "----------\n",
      "id: 2 or \"Google Inc.:Google APIs (x86 System Image):19\"\n",
      "     Name: Google APIs (x86 System Image)\n",
      "     Type: Add-On\n",
      "     Vendor: Google Inc.\n",
      "     Revision: 5\n",
      "     Description: Android x86 + Google APIs\n",
      "     Based on Android 4.4.2 (API level 19)\n",
      "     Libraries:\n",
      "      * com.google.android.media.effects (effects.jar)\n",
      "          Collection of video effects\n",
      "      * com.android.future.usb.accessory (usb.jar)\n",
      "          API for USB Accessories\n",
      "      * com.google.android.maps (maps.jar)\n",
      "          API for Google Maps\n",
      "     Skins: WXGA720, WQVGA432, HVGA, QVGA, WXGA800-7in, WVGA800 (default), WSVGA, WXGA800, WQVGA400, WVGA854\n",
      " Tag/ABIs : default/x86\n",
      "~~~\n",
      "\n",
      "Now you're ready to **create** your AVD:\n",
      "\n",
      "~~~ shell\n",
      "(env)root@kali:~/work/apk# android create avd --abi default/armeabi-v7a -n android-4.4.2-droidbox -t 1\n",
      "Android 4.4.2 is a basic Android platform.\n",
      "Do you wish to create a custom hardware profile [no]no\n",
      "Created AVD 'android-4.4.2-droidbox' based on Android 4.4.2, ARM (armeabi-v7a) processor,\n",
      "with the following hardware config:\n",
      "hw.lcd.density=240\n",
      "hw.ramSize=512\n",
      "vm.heapSize=48\n",
      "~~~\n",
      "\n"
     ]
    },
    {
     "cell_type": "heading",
     "level": 2,
     "metadata": {},
     "source": [
      "Start the emulator"
     ]
    },
    {
     "cell_type": "markdown",
     "metadata": {},
     "source": [
      "In `DroidBox`s package directory you'll find `startemu.sh`. Open it and add your favourite parameters.\n",
      "\n",
      "~~~ shell\n",
      "(env)root@kali:~/work/apk/DroidBox# cat startemu.sh  | grep emulator\n",
      "emulator -avd $1 -prop dalvik.vm.execution-mode=int:portable &\n",
      "~~~\n",
      "\n",
      "Afterwards make sure you have a X session and **run** the emulator with your previously created AVD:\n",
      "\n",
      "~~~ shell\n",
      "(env)root@kali:~/work/apk/DroidBox# ./startemu.sh android-4.4.2-droidbox\n",
      "...\n",
      "~~~\n"
     ]
    },
    {
     "cell_type": "heading",
     "level": 2,
     "metadata": {},
     "source": [
      "Get malicious APKs"
     ]
    },
    {
     "cell_type": "markdown",
     "metadata": {},
     "source": [
      "Now that you got everything running it's time to get some **malicious** APKs to play with. On [contagio mobile](http://contagiominidump.blogspot.de/) you'll get tons of malicious files to look at. I've decided to look at the [Fake Banker](http://www.mediafire.com/download/e938k6t3y6ul1yy/FakeBankerAPKs.zip):\n",
      "\n",
      "~~~ shell\n",
      "(env)root@kali:~/work/apk/DroidBox/APK# wget http://www.mediafire.com/download/e938k6t3y6ul1yy/FakeBankerAPKs.zip\n",
      "~~~\n",
      "\n",
      "Now you'll have to extract the archive. As mentioned on the site you'll have to contact the sites maintainer in order to get the password for the files. Thanks to [@snowfl0w](https://twitter.com/snowfl0w) for providing me the password.\n",
      "\n",
      "> **NOTE**: The ordinary unzip command will fail to extract the files. You should install *p7zip*.\n",
      "\n",
      "~~~ shell\n",
      "(env)root@kali:~/work/apk/DroidBox/APK# 7z e FakeBankerAPKs.zip \n",
      "\n",
      "7-Zip [64] 9.20  Copyright (c) 1999-2010 Igor Pavlov  2010-11-18\n",
      "p7zip Version 9.20 (locale=en_US.UTF-8,Utf16=on,HugeFiles=on,1 CPU)\n",
      "\n",
      "Processing archive: FakeBankerAPKs.zip\n",
      "\n",
      "Extracting  7276e76298c50d2ee78271cf5114a176\n",
      "Enter password (will not be echoed) :\n",
      "\n",
      "Extracting  a15b704743f53d3edb9cdd1182ca78d1\n",
      "Extracting  aac4d15741abe0ee9b4afe78be090599\n",
      "\n",
      "Everything is Ok\n",
      "\n",
      "Files: 3\n",
      "Size:       629877\n",
      "Compressed: 622336\n",
      "~~~\n",
      "\n",
      "\n"
     ]
    },
    {
     "cell_type": "heading",
     "level": 2,
     "metadata": {},
     "source": [
      "Scratch the surface"
     ]
    },
    {
     "cell_type": "markdown",
     "metadata": {},
     "source": [
      "First let's examine the files:\n",
      "\n",
      "~~~ shell\n",
      "(env)root@kali:~/work/apk/DroidBox/APK# for i in *; do file $i; done\n",
      "7276e76298c50d2ee78271cf5114a176: Zip archive data, at least v2.0 to extract\n",
      "a15b704743f53d3edb9cdd1182ca78d1: Zip archive data, at least v2.0 to extract\n",
      "aac4d15741abe0ee9b4afe78be090599: Zip archive data, at least v2.0 to extract\n",
      "~~~\n",
      "\n",
      "Now let's have a loot what's inside the files:\n",
      "\n",
      "~~~ shell\n",
      "(env)root@kali:~/work/apk/DroidBox/APK# for i in *; do unzip -l $i; done\n",
      "Archive:  7276e76298c50d2ee78271cf5114a176\n",
      "signed by SignApk\n",
      "  Length      Date    Time    Name\n",
      "---------  ---------- -----   ----\n",
      "     1119  2008-02-29 05:33   META-INF/MANIFEST.MF\n",
      "     1172  2008-02-29 05:33   META-INF/CERT.SF\n",
      "     1714  2008-02-29 05:33   META-INF/CERT.RSA\n",
      "     5004  2008-02-29 05:33   AndroidManifest.xml\n",
      "   394740  2008-02-29 05:33   classes.dex\n",
      "     6426  2008-02-29 05:33   res/drawable-hdpi/ic_launcher1.png\n",
      "    14738  2008-02-29 05:33   res/drawable-hdpi/logo.png\n",
      "     2052  2008-02-29 05:33   res/drawable-ldpi/ic_launcher1.png\n",
      "     3231  2008-02-29 05:33   res/drawable-mdpi/ic_launcher1.png\n",
      "     8824  2008-02-29 05:33   res/drawable-xhdpi/ic_launcher1.png\n",
      "     1012  2008-02-29 05:33   res/layout/actup.xml\n",
      "      620  2008-02-29 05:33   res/layout/main.xml\n",
      "     4200  2008-02-29 05:33   res/layout/main2.xml\n",
      "      432  2008-02-29 05:33   res/menu/main.xml\n",
      "       56  2008-02-29 05:33   res/raw/blfs.key\n",
      "     1048  2008-02-29 05:33   res/raw/config.cfg\n",
      "     3196  2008-02-29 05:33   resources.arsc\n",
      "---------                     -------\n",
      "   449584                     17 files\n",
      "Archive:  a15b704743f53d3edb9cdd1182ca78d1\n",
      "signed by SignApk\n",
      "  Length      Date    Time    Name\n",
      "---------  ---------- -----   ----\n",
      "     1119  2008-02-29 04:33   META-INF/MANIFEST.MF\n",
      "     1172  2008-02-29 04:33   META-INF/CERT.SF\n",
      "     1714  2008-02-29 04:33   META-INF/CERT.RSA\n",
      "     5144  2008-02-29 04:33   AndroidManifest.xml\n",
      "   403604  2008-02-29 04:33   classes.dex\n",
      "      474  2008-02-29 04:33   res/drawable-hdpi/ic_launcher1.png\n",
      "    14176  2008-02-29 04:33   res/drawable-hdpi/logo.png\n",
      "      434  2008-02-29 04:33   res/drawable-ldpi/ic_launcher1.png\n",
      "      442  2008-02-29 04:33   res/drawable-mdpi/ic_launcher1.png\n",
      "      571  2008-02-29 04:33   res/drawable-xhdpi/ic_launcher1.png\n",
      "     1012  2008-02-29 04:33   res/layout/actup.xml\n",
      "      620  2008-02-29 04:33   res/layout/main.xml\n",
      "     4468  2008-02-29 04:33   res/layout/main2.xml\n",
      "      432  2008-02-29 04:33   res/menu/main.xml\n",
      "       56  2008-02-29 04:33   res/raw/blfs.key\n",
      "     1036  2008-02-29 04:33   res/raw/config.cfg\n",
      "     4708  2008-02-29 04:33   resources.arsc\n",
      "---------                     -------\n",
      "   441182                     17 files\n",
      "Archive:  aac4d15741abe0ee9b4afe78be090599\n",
      "signed by SignApk\n",
      "  Length      Date    Time    Name\n",
      "---------  ---------- -----   ----\n",
      "     1119  2008-02-29 05:33   META-INF/MANIFEST.MF\n",
      "     1172  2008-02-29 05:33   META-INF/CERT.SF\n",
      "     1714  2008-02-29 05:33   META-INF/CERT.RSA\n",
      "     5004  2008-02-29 05:33   AndroidManifest.xml\n",
      "   395420  2008-02-29 05:33   classes.dex\n",
      "      474  2008-02-29 05:33   res/drawable-hdpi/ic_launcher1.png\n",
      "    14176  2008-02-29 05:33   res/drawable-hdpi/logo.png\n",
      "      434  2008-02-29 05:33   res/drawable-ldpi/ic_launcher1.png\n",
      "      442  2008-02-29 05:33   res/drawable-mdpi/ic_launcher1.png\n",
      "      571  2008-02-29 05:33   res/drawable-xhdpi/ic_launcher1.png\n",
      "     1012  2008-02-29 05:33   res/layout/actup.xml\n",
      "      620  2008-02-29 05:33   res/layout/main.xml\n",
      "     4200  2008-02-29 05:33   res/layout/main2.xml\n",
      "      432  2008-02-29 05:33   res/menu/main.xml\n",
      "       56  2008-02-29 05:33   res/raw/blfs.key\n",
      "     1024  2008-02-29 05:33   res/raw/config.cfg\n",
      "     3200  2008-02-29 05:33   resources.arsc\n",
      "---------                     -------\n",
      "   431070                     17 files\n",
      "~~~\n",
      "\n",
      "Let's go a little bit further and analyze the contents of the files. The [*Android Asset Packeting Tool*](http://developer.android.com/tools/building/index.html) (aapt) will help you **dump** several files inside the APK file. An excerpt from --help:\n",
      "\n",
      "~~~ shell\n",
      "...\n",
      "aapt d[ump] [--values] WHAT file.{apk} [asset [asset ...]]\n",
      "   strings          Print the contents of the resource table string pool in the APK.\n",
      "   badging          Print the label and icon for the app declared in APK.\n",
      "   permissions      Print the permissions from the APK.\n",
      "   resources        Print the resource table from the APK.\n",
      "   configurations   Print the configurations in the APK.\n",
      "   xmltree          Print the compiled xmls in the given assets.\n",
      "   xmlstrings       Print the strings of the given compiled xml assets.\n",
      "...\n",
      "~~~\n",
      "\n",
      "Now let's have a look at the **Manifest** file:\n",
      "\n",
      "~~~ shell\n",
      "(env)root@kali:~/work/apk/DroidBox/APK# aapt dump xmltree 7276e76298c50d2ee78271cf5114a176 AndroidManifest.xml\n",
      "N: android=http://schemas.android.com/apk/res/android\n",
      "  E: manifest (line=2)\n",
      "    A: android:versionCode(0x0101021b)=(type 0x10)0x1\n",
      "    A: android:versionName(0x0101021c)=\"1.0\" (Raw: \"1.0\")\n",
      "    A: package=\"com.gmail.xpack\" (Raw: \"com.gmail.xpack\")\n",
      "    E: uses-sdk (line=4)\n",
      "      A: android:minSdkVersion(0x0101020c)=(type 0x10)0xa\n",
      "      A: android:targetSdkVersion(0x01010270)=(type 0x10)0xa\n",
      "    E: uses-permission (line=5)\n",
      "      A: android:name(0x01010003)=\"android.permission.RECEIVE_BOOT_COMPLETED\" (Raw: \"android.permission.RECEIVE_BOOT_COMPLETED\")\n",
      "    E: uses-permission (line=6)\n",
      "      A: android:name(0x01010003)=\"android.permission.READ_SMS\" (Raw: \"android.permission.READ_SMS\")\n",
      "    E: uses-permission (line=7)\n",
      "      A: android:name(0x01010003)=\"android.permission.RECEIVE_SMS\" (Raw: \"android.permission.RECEIVE_SMS\")\n",
      "    E: uses-permission (line=8)\n",
      "      A: android:name(0x01010003)=\"android.permission.INTERNET\" (Raw: \"android.permission.INTERNET\")\n",
      "    E: uses-permission (line=9)\n",
      "      A: android:name(0x01010003)=\"android.permission.READ_PHONE_STATE\" (Raw: \"android.permission.READ_PHONE_STATE\")\n",
      "    E: uses-permission (line=10)\n",
      "      A: android:name(0x01010003)=\"android.permission.ACCESS_COARSE_LOCATION\" (Raw: \"android.permission.ACCESS_COARSE_LOCATION\")\n",
      "    E: uses-permission (line=11)\n",
      "      A: android:name(0x01010003)=\"android.permission.ACCESS_NETWORK_STATE\" (Raw: \"android.permission.ACCESS_NETWORK_STATE\")\n",
      "...\n",
      "~~~\n",
      "\n",
      "Have a look at the **permissions**:\n",
      "\n",
      "~~~ shell\n",
      "(env)root@kali:~/work/apk/DroidBox/APK# aapt dump xmltree 7276e76298c50d2ee78271cf5114a176 AndroidManifest.xml | grep permission\n",
      "    E: uses-permission (line=5)\n",
      "      A: android:name(0x01010003)=\"android.permission.RECEIVE_BOOT_COMPLETED\" (Raw: \"android.permission.RECEIVE_BOOT_COMPLETED\")\n",
      "    E: uses-permission (line=6)\n",
      "      A: android:name(0x01010003)=\"android.permission.READ_SMS\" (Raw: \"android.permission.READ_SMS\")\n",
      "    E: uses-permission (line=7)\n",
      "      A: android:name(0x01010003)=\"android.permission.RECEIVE_SMS\" (Raw: \"android.permission.RECEIVE_SMS\")\n",
      "    E: uses-permission (line=8)\n",
      "      A: android:name(0x01010003)=\"android.permission.INTERNET\" (Raw: \"android.permission.INTERNET\")\n",
      "    E: uses-permission (line=9)\n",
      "      A: android:name(0x01010003)=\"android.permission.READ_PHONE_STATE\" (Raw: \"android.permission.READ_PHONE_STATE\")\n",
      "    E: uses-permission (line=10)\n",
      "      A: android:name(0x01010003)=\"android.permission.ACCESS_COARSE_LOCATION\" (Raw: \"android.permission.ACCESS_COARSE_LOCATION\")\n",
      "    E: uses-permission (line=11)\n",
      "      A: android:name(0x01010003)=\"android.permission.ACCESS_NETWORK_STATE\" (Raw: \"android.permission.ACCESS_NETWORK_STATE\")\n",
      "~~~\n",
      "\n",
      "**android.permission.READ_SMS** and **android.permission.RECEIVE_SMS** Hmmm.. That looks suspicious.\n",
      "\n",
      "\n",
      "Ok, now we're ready to give **DroidBox** the files to analyze them. First let's check our connectivity with the device:\n",
      "\n",
      "~~~ shell\n",
      "(env)root@kali:~/work/apk/DroidBox# adb devices\n",
      "List of devices attached \n",
      "emulator-5554\tdevice\n",
      "~~~\n",
      "\n",
      "Everything looks good!"
     ]
    },
    {
     "cell_type": "code",
     "collapsed": false,
     "input": [],
     "language": "python",
     "metadata": {},
     "outputs": []
    },
    {
     "cell_type": "code",
     "collapsed": false,
     "input": [
      "-"
     ],
     "language": "python",
     "metadata": {},
     "outputs": []
    },
    {
     "cell_type": "code",
     "collapsed": false,
     "input": [],
     "language": "python",
     "metadata": {},
     "outputs": []
    },
    {
     "cell_type": "code",
     "collapsed": false,
     "input": [],
     "language": "python",
     "metadata": {},
     "outputs": []
    },
    {
     "cell_type": "heading",
     "level": 2,
     "metadata": {},
     "source": [
      "Run DroidBox"
     ]
    },
    {
     "cell_type": "markdown",
     "metadata": {},
     "source": [
      "~~~ shell\n",
      "(env)root@kali:~/work/apk/DroidBox# ./droidbox.sh APK/7276e76298c50d2ee78271cf5114a176\n",
      "~~~\n",
      "\n",
      "This will start DroidBox running in the background and listening for any events generated by the APK.\n",
      "\n",
      "~~~ shell\n",
      "/\\  _`\\               __    /\\ \\/\\  _`\\\n",
      "\\ \\ \\/\\ \\  _ __  ___ /\\_\\   \\_\\ \\ \\ \\L\\ \\   ___   __  _\n",
      " \\ \\ \\ \\ \\/\\`'__\\ __`\\/\\ \\  /'_` \\ \\  _ <' / __`\\/\\ \\/'\\\n",
      "  \\ \\ \\_\\ \\ \\ \\/\\ \\L\\ \\ \\ \\/\\ \\L\\ \\ \\ \\L\\ \\ \\L\\ \\/>  </\n",
      "   \\ \\____/\\ \\_\\ \\____/\\ \\_\\ \\___,_\\ \\____/ \\____//\\_/\\_\\\n",
      "    \\/___/  \\/_/\\/___/  \\/_/\\/__,_ /\\/___/ \\/___/ \\//\\/_/\n",
      "     [|] Collected 0 sandbox logs   (Ctrl-C to view logs)\n",
      "~~~"
     ]
    },
    {
     "cell_type": "code",
     "collapsed": false,
     "input": [],
     "language": "python",
     "metadata": {},
     "outputs": []
    },
    {
     "cell_type": "code",
     "collapsed": false,
     "input": [],
     "language": "python",
     "metadata": {},
     "outputs": []
    },
    {
     "cell_type": "code",
     "collapsed": false,
     "input": [],
     "language": "python",
     "metadata": {},
     "outputs": []
    },
    {
     "cell_type": "code",
     "collapsed": false,
     "input": [],
     "language": "python",
     "metadata": {},
     "outputs": []
    },
    {
     "cell_type": "code",
     "collapsed": false,
     "input": [],
     "language": "python",
     "metadata": {},
     "outputs": []
    },
    {
     "cell_type": "code",
     "collapsed": false,
     "input": [],
     "language": "python",
     "metadata": {},
     "outputs": []
    },
    {
     "cell_type": "code",
     "collapsed": false,
     "input": [],
     "language": "python",
     "metadata": {},
     "outputs": []
    },
    {
     "cell_type": "code",
     "collapsed": false,
     "input": [],
     "language": "python",
     "metadata": {},
     "outputs": []
    },
    {
     "cell_type": "heading",
     "level": 2,
     "metadata": {},
     "source": [
      "Choose APK"
     ]
    },
    {
     "cell_type": "markdown",
     "metadata": {},
     "source": [
      "Since I needed some `APK` to play with I've just chosen [one](https://github.com/downloads/github/android/github-android-1.5.apk) randomly. It's about the GitHub Android App (Version 1.5). Now download it and let the games begin:\n",
      "\n",
      "~~~ shell\n",
      "root@kali:/home/victor/work/apk# wget https://github.com/downloads/github/android/github-android-1.5.apk\n",
      "~~~"
     ]
    },
    {
     "cell_type": "code",
     "collapsed": false,
     "input": [],
     "language": "python",
     "metadata": {},
     "outputs": []
    },
    {
     "cell_type": "code",
     "collapsed": false,
     "input": [],
     "language": "python",
     "metadata": {},
     "outputs": []
    },
    {
     "cell_type": "code",
     "collapsed": false,
     "input": [],
     "language": "python",
     "metadata": {},
     "outputs": []
    },
    {
     "cell_type": "code",
     "collapsed": false,
     "input": [],
     "language": "python",
     "metadata": {},
     "outputs": []
    },
    {
     "cell_type": "code",
     "collapsed": false,
     "input": [],
     "language": "python",
     "metadata": {},
     "outputs": []
    }
   ],
   "metadata": {}
  }
 ]
}